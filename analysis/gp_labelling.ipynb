{
 "cells": [
  {
   "cell_type": "markdown",
   "id": "1553c2bf-21c8-4bdc-94a7-57259c8d2392",
   "metadata": {},
   "source": [
    "# Gradual Pattern Labelling\n",
    "\n",
    "We propose an approach for generating gradual pattern (GP) labels from the features of a data set. The nature of data sets used in GP mining do not provide labels which correspond to their features that may allow classification models to be applied on them. Therefore, most of the existing GP mining techniques rely on descriptive approaches in order to mine GPs. In order to create the possibility of employing machine learning classification algorithms to the task of predicting GPs, the need arises for labelling features of data sets using GP classes.\n",
    "\n",
    "In this study, we propose an approach that produces GP labels for data set features. In order to test the effectiveness of our approach, we further propose and demonstrate how these labels may be used to extract estimated GPs with an acceptable accuracy. We test the accuracy of the estimated GPs using 2 measures:\n",
    "\n",
    "* verity of each estimated pattern\n",
    "* error margin of their estimated support values from the *true* values"
   ]
  },
  {
   "cell_type": "markdown",
   "id": "4ce9b277-3dd5-4e6d-ad28-cbcee3ed5af5",
   "metadata": {},
   "source": [
    "# Demonstration\n",
    "\n",
    "## 1. Loading Data Set\n",
    "We show the first 5 records of our test data set *\"breast_cancer.csv'' or \"c2k.csv\"*."
   ]
  },
  {
   "cell_type": "code",
   "execution_count": null,
   "id": "ca2050a1-ef81-4af0-89dd-5825d9e970a2",
   "metadata": {},
   "outputs": [],
   "source": []
  },
  {
   "cell_type": "markdown",
   "id": "1b70fec4-e6c3-4d0d-a330-6e0fef4fcb28",
   "metadata": {},
   "source": [
    "## 2. Generate GP Labels\n",
    "We show the modified data set with the generated GP labels."
   ]
  },
  {
   "cell_type": "code",
   "execution_count": null,
   "id": "5ec84ce6-81c8-4474-ac6b-3bc9c8e1944e",
   "metadata": {},
   "outputs": [],
   "source": []
  },
  {
   "cell_type": "markdown",
   "id": "3c9a2130-9081-4d34-9320-7e61863ef5be",
   "metadata": {},
   "source": [
    "## 3. Estimate GPs from Labels\n",
    "We present the preliminary results that show the accuracy of our extracted estimated GPs."
   ]
  },
  {
   "cell_type": "code",
   "execution_count": null,
   "id": "3bac07ce-7b89-4a94-9dbc-ae7696f87f89",
   "metadata": {},
   "outputs": [],
   "source": []
  }
 ],
 "metadata": {
  "kernelspec": {
   "display_name": "Python 3 (ipykernel)",
   "language": "python",
   "name": "python3"
  },
  "language_info": {
   "codemirror_mode": {
    "name": "ipython",
    "version": 3
   },
   "file_extension": ".py",
   "mimetype": "text/x-python",
   "name": "python",
   "nbconvert_exporter": "python",
   "pygments_lexer": "ipython3",
   "version": "3.9.13"
  }
 },
 "nbformat": 4,
 "nbformat_minor": 5
}
