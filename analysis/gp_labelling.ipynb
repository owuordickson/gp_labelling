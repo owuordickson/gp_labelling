{
 "cells": [
  {
   "cell_type": "markdown",
   "id": "1553c2bf-21c8-4bdc-94a7-57259c8d2392",
   "metadata": {},
   "source": [
    "# Gradual Pattern Labelling\n"
   ]
  },
  {
   "cell_type": "code",
   "execution_count": null,
   "id": "6e019845-d7f6-45e5-b90c-eb889c3d5d0a",
   "metadata": {},
   "outputs": [],
   "source": []
  }
 ],
 "metadata": {
  "kernelspec": {
   "display_name": "Python 3 (ipykernel)",
   "language": "python",
   "name": "python3"
  },
  "language_info": {
   "codemirror_mode": {
    "name": "ipython",
    "version": 3
   },
   "file_extension": ".py",
   "mimetype": "text/x-python",
   "name": "python",
   "nbconvert_exporter": "python",
   "pygments_lexer": "ipython3",
   "version": "3.9.13"
  }
 },
 "nbformat": 4,
 "nbformat_minor": 5
}
